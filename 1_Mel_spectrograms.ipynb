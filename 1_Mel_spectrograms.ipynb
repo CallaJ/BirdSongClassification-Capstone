{
 "cells": [
  {
   "cell_type": "markdown",
   "metadata": {},
   "source": [
    "1_Mel_Spectrograms"
   ]
  },
  {
   "cell_type": "markdown",
   "metadata": {},
   "source": [
    "# BIRD SONG CLASSIFICATION\n",
    "\n",
    "Calla Jamieson, \n",
    "Data Science Candidate\n",
    "April 11, 2021\n",
    "___\n",
    "\n",
    "__Project Overview__\n",
    "\n",
    "Some weeks ago I asked \"_How can we use Machine Learning to identify bird song?_\" , begging three more questions:\n",
    "\n",
    "* Can we identify the species of bird from an audio sample?\n",
    "\n",
    "* Can we identify bird songs out of range? (not on migratory route, out of season)\n",
    "\n",
    "* Can we identify whether a particular song is unique to an individual bird?\n",
    "\n",
    "As it turns out, by converting the audio waves to Mel Spectrograms, we can.\n",
    "\n",
    "_A brief overview on audio signals in the context of MEL Spectrograms can be found here:_\n",
    "\n",
    "<div align=\"center\">https://medium.com/analytics-vidhya/understanding-the-mel-spectrogram-fca2afa2ce53</div>\n",
    "\n",
    "I will use librosa to convert the sound files to Mel spectrograms.\n",
    "\n",
    "The inputs:\n",
    "\n",
    "* 264 .flac files\n",
    "\n",
    "The outputs\n",
    "\n",
    "* 264 Mel spectrogram images\n",
    "* A list of arrays containing the raw spectrogram data in the shape of \n",
    "\n",
    "\n",
    "\n"
   ]
  },
  {
   "cell_type": "markdown",
   "metadata": {},
   "source": [
    "Start by importing the packages we're going to be using."
   ]
  },
  {
   "cell_type": "code",
   "execution_count": null,
   "metadata": {
    "ExecuteTime": {
     "end_time": "2021-03-21T18:02:58.166663Z",
     "start_time": "2021-03-21T18:02:53.634173Z"
    }
   },
   "outputs": [],
   "source": [
    "\n",
    "# Basic packages\n",
    "import numpy as np\n",
    "import pandas as pd\n",
    "from glob import glob \n",
    "\n",
    "import librosa as librosa\n",
    "import librosa.util\n",
    "import librosa.display\n",
    "# For visualizations\n",
    "import matplotlib.pyplot as plt\n",
    "import seaborn as sns\n",
    "\n",
    "import os\n",
    "\n",
    "# For reproducible results\n",
    "np.random.seed(101001010)\n",
    "\n",
    "%matplotlib inline\n",
    "\n",
    "pd.set_option('display.max_rows', 300)\n",
    "pd.set_option(\"display.max_columns\", 40)"
   ]
  },
  {
   "cell_type": "code",
   "execution_count": null,
   "metadata": {
    "ExecuteTime": {
     "end_time": "2021-03-21T18:02:58.212867Z",
     "start_time": "2021-03-21T18:02:58.199035Z"
    },
    "scrolled": true
   },
   "outputs": [],
   "source": [
    "#Setting up input and output directories\n",
    "'''\n",
    "Setting up the file paths\n",
    "'''\n",
    "audio_fpath = 'D:\\\\kaggle_birds\\\\songs\\\\'\n",
    "image_fpath = 'D:\\\\kaggle_birds\\\\mel_spec\\\\'\n",
    "audio_clips = os.listdir(audio_fpath)\n",
    "mel_spec = os.listdir(image_fpath)\n",
    "print(\"No. of files in audio folder = \",len(audio_clips))\n",
    "print(\"No. of files in mel_spec folder = \", len(mel_spec))"
   ]
  },
  {
   "cell_type": "code",
   "execution_count": null,
   "metadata": {},
   "outputs": [],
   "source": [
    "def make_mels(i):\n",
    "    \n",
    "    # load audio file \n",
    "    y, sr = librosa.load(i, sr=44100)\n",
    "    print(y)\n",
    "      \n",
    "    # setting the number of Mel filterbanks to 128 (we want to capture as much direction as possible,)\n",
    "    S = librosa.feature.melspectrogram(y=y, sr=sr, n_mels=128, fmax=10000)\n",
    "    \n",
    "    # store the spectrogram data \n",
    "    song_files.append(S)\n",
    "    \n",
    "    # convert to decibal units\n",
    "    S_dB = librosa.power_to_db(S, ref=np.max)\n",
    "    \n",
    "    # make the spectrograrm image\n",
    "    img = librosa.display.specshow(S_dB, x_axis='time', y_axis='mel', sr=sr, fmax=10000)\n",
    "    \n",
    "    # collect the figure\n",
    "    fig = img.get_figure()\n",
    "    \n",
    "    # parse the file name\n",
    "    fname = fname_parser(i)\n",
    "    print(fname)\n",
    "    \n",
    "    # write img file \n",
    "    plt.savefig(image_fpath+fname)\n",
    "    \n",
    "    # show the spectrograms\n",
    "    plt.show(fig)\n",
    "    \n",
    "    # print doc string\n",
    "    "
   ]
  },
  {
   "cell_type": "markdown",
   "metadata": {},
   "source": [
    "## Loading the Audio Files"
   ]
  },
  {
   "cell_type": "code",
   "execution_count": null,
   "metadata": {
    "ExecuteTime": {
     "end_time": "2021-03-21T18:03:04.531305Z",
     "start_time": "2021-03-21T18:03:04.514323Z"
    }
   },
   "outputs": [],
   "source": [
    "# using walk function \n",
    "import os                                                                                                             \n",
    "                                                                                                                      \n",
    "def list_files(dir):                                                                                                  \n",
    "    r = []                                                                                                            \n",
    "    subdirs = [x[0] for x in os.walk(dir)]                                                                            \n",
    "    for subdir in subdirs:                                                                                            \n",
    "        files = os.walk(subdir).__next__()[2]                                                                             \n",
    "        if (len(files) > 0):                                                                                          \n",
    "            for file in files:                                                                                        \n",
    "                r.append(os.path.join(subdir, file))                                                                         \n",
    "    return r           "
   ]
  },
  {
   "cell_type": "code",
   "execution_count": null,
   "metadata": {
    "ExecuteTime": {
     "end_time": "2021-03-21T18:03:06.861375Z",
     "start_time": "2021-03-21T18:03:06.570454Z"
    },
    "scrolled": true
   },
   "outputs": [],
   "source": [
    "# check the list for the input flac files\n",
    "audio_file_list = list_files(audio_fpath)\n",
    "audio_file_list"
   ]
  },
  {
   "cell_type": "markdown",
   "metadata": {},
   "source": [
    "### make a function to parse filenames from filepath"
   ]
  },
  {
   "cell_type": "code",
   "execution_count": null,
   "metadata": {},
   "outputs": [],
   "source": [
    "\n",
    "# define filename extractor \n",
    "\n",
    "def fname_parser(i):\n",
    "    '''\n",
    "    fname_ parser - Parses the filename from the path. The text prefix(xc: xeno-canto) is stripped in the first split\n",
    "    and is added again after extracting the core filename. Returns the filename for use in writing files. authors code.\n",
    "    '''\n",
    "    fname = i\n",
    "    a_name = fname.split('xc')\n",
    "    b_name = a_name[1]\n",
    "    c_name = b_name.split('.')\n",
    "    d_name = c_name[0]\n",
    "    song_name = 'xc'+d_name\n",
    "    return song_name\n",
    "print(fname_parser.__doc__)"
   ]
  },
  {
   "cell_type": "code",
   "execution_count": null,
   "metadata": {},
   "outputs": [],
   "source": [
    "# store the list of songs\n",
    "song_names = []\n",
    "for i in audio_file_list:\n",
    "    song_name = fname_parser(i)\n",
    "    song_names.append(song_name)\n",
    "    "
   ]
  },
  {
   "cell_type": "code",
   "execution_count": null,
   "metadata": {
    "run_control": {
     "marked": true
    }
   },
   "outputs": [],
   "source": [
    "# the list of mel spectrograms\n",
    "mel_file_list = list_files(image_fpath)\n",
    "mel_file_list"
   ]
  },
  {
   "cell_type": "markdown",
   "metadata": {},
   "source": [
    "# Converting the audio files into Mel Spectrograms"
   ]
  },
  {
   "cell_type": "code",
   "execution_count": null,
   "metadata": {
    "run_control": {
     "marked": true
    },
    "scrolled": true
   },
   "outputs": [],
   "source": [
    "'''\n",
    "Converting the audio files into Mel Spectrograms\n",
    "\n",
    "    Initialize container for raw data\n",
    "    Set up loop\n",
    "    Apply the filterbanks and collect the data\n",
    "    Convert Scale to dB\n",
    "    Parse the filename\n",
    "    Write the sprectrogram image\n",
    "'''\n",
    "song_files = []\n",
    "\n",
    "#Set up loop\n",
    "for i in audio_file_list:\n",
    "    \n",
    "    make_mels(i)\n",
    "\n",
    "print(make_mels.__doc__)\n",
    "  \n",
    "   \n",
    "    "
   ]
  },
  {
   "cell_type": "markdown",
   "metadata": {},
   "source": [
    "Now that we have converted the audio files to Mel spectrograms, let's get those spectrograms into data frames"
   ]
  },
  {
   "cell_type": "code",
   "execution_count": null,
   "metadata": {},
   "outputs": [],
   "source": [
    "# convert a song-image from array to dataframe to get a feel of the scope\n",
    "for i in range(len(song_files)):\n",
    "    df = pd.DataFrame(data= song_files[i])\n",
    "    df.to_csv(f'{i}.csv', index = False)"
   ]
  },
  {
   "cell_type": "code",
   "execution_count": null,
   "metadata": {
    "scrolled": false
   },
   "outputs": [],
   "source": [
    "song_0 = pd.read_csv('0.csv')\n",
    "song_0"
   ]
  },
  {
   "cell_type": "code",
   "execution_count": null,
   "metadata": {},
   "outputs": [],
   "source": [
    "song_0.info()"
   ]
  },
  {
   "cell_type": "code",
   "execution_count": null,
   "metadata": {},
   "outputs": [],
   "source": [
    "# Calculating the data points from this one image\n",
    "data_points = 128*2188*32\n",
    "data_points"
   ]
  },
  {
   "cell_type": "markdown",
   "metadata": {},
   "source": [
    "\n"
   ]
  }
 ],
 "metadata": {
  "kernelspec": {
   "display_name": "Python 3",
   "language": "python",
   "name": "python3"
  },
  "latex_envs": {
   "LaTeX_envs_menu_present": true,
   "autoclose": false,
   "autocomplete": true,
   "bibliofile": "biblio.bib",
   "cite_by": "apalike",
   "current_citInitial": 1,
   "eqLabelWithNumbers": true,
   "eqNumInitial": 1,
   "hotkeys": {
    "equation": "Ctrl-E",
    "itemize": "Ctrl-I"
   },
   "labels_anchors": false,
   "latex_user_defs": false,
   "report_style_numbering": false,
   "user_envs_cfg": false
  },
  "toc": {
   "base_numbering": 1,
   "nav_menu": {},
   "number_sections": true,
   "sideBar": true,
   "skip_h1_title": false,
   "title_cell": "Table of Contents",
   "title_sidebar": "Contents",
   "toc_cell": false,
   "toc_position": {},
   "toc_section_display": true,
   "toc_window_display": true
  },
  "varInspector": {
   "cols": {
    "lenName": 16,
    "lenType": 16,
    "lenVar": 40
   },
   "kernels_config": {
    "python": {
     "delete_cmd_postfix": "",
     "delete_cmd_prefix": "del ",
     "library": "var_list.py",
     "varRefreshCmd": "print(var_dic_list())"
    },
    "r": {
     "delete_cmd_postfix": ") ",
     "delete_cmd_prefix": "rm(",
     "library": "var_list.r",
     "varRefreshCmd": "cat(var_dic_list()) "
    }
   },
   "types_to_exclude": [
    "module",
    "function",
    "builtin_function_or_method",
    "instance",
    "_Feature"
   ],
   "window_display": false
  }
 },
 "nbformat": 4,
 "nbformat_minor": 4
}
